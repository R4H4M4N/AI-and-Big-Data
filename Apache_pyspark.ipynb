{
 "cells": [
  {
   "cell_type": "markdown",
   "id": "a08251f7-b01b-4386-9d0a-460223229a8c",
   "metadata": {},
   "source": [
    "Import Libraries"
   ]
  },
  {
   "cell_type": "code",
   "execution_count": 11,
   "id": "23aa7020-9905-47c1-95e6-d382dd689f0d",
   "metadata": {},
   "outputs": [],
   "source": [
    "from pyspark.sql import SparkSession\n",
    "from pyspark.ml.classification import DecisionTreeClassifier, RandomForestClassifier, NaiveBayes\n",
    "from pyspark.ml.evaluation import MulticlassClassificationEvaluator, BinaryClassificationEvaluator\n",
    "from pyspark.ml.feature import VectorAssembler"
   ]
  },
  {
   "cell_type": "markdown",
   "id": "86ee29fd-f23e-43f0-afbb-7bf387f4af30",
   "metadata": {},
   "source": [
    "Start Spark session"
   ]
  },
  {
   "cell_type": "code",
   "execution_count": 12,
   "id": "2ebe7f54-4430-4b59-bf59-75d70632e2a2",
   "metadata": {},
   "outputs": [
    {
     "name": "stderr",
     "output_type": "stream",
     "text": [
      "25/05/19 16:17:38 WARN SparkSession: Using an existing Spark session; only runtime SQL configurations will take effect.\n"
     ]
    }
   ],
   "source": [
    "spark = SparkSession.builder.appName(\"Loan Default ML Process 1\").getOrCreate()"
   ]
  },
  {
   "cell_type": "markdown",
   "id": "8c2b38a3-b81c-496c-ad67-9501f706ed93",
   "metadata": {},
   "source": [
    "Load Prepared Data"
   ]
  },
  {
   "cell_type": "code",
   "execution_count": 13,
   "id": "fba78c10-749e-42fa-bc6d-03558e24dc77",
   "metadata": {},
   "outputs": [
    {
     "name": "stderr",
     "output_type": "stream",
     "text": [
      "                                                                                \r"
     ]
    },
    {
     "name": "stdout",
     "output_type": "stream",
     "text": [
      "root\n",
      " |-- loan_amnt: double (nullable = true)\n",
      " |-- term_index: double (nullable = true)\n",
      " |-- int_rate: double (nullable = true)\n",
      " |-- grade_index: double (nullable = true)\n",
      " |-- sub_grade_index: double (nullable = true)\n",
      " |-- home_ownership_index: double (nullable = true)\n",
      " |-- annual_inc: double (nullable = true)\n",
      " |-- verification_status_index: double (nullable = true)\n",
      " |-- purpose_index: double (nullable = true)\n",
      " |-- dti: double (nullable = true)\n",
      " |-- delinq_2yrs: double (nullable = true)\n",
      " |-- inq_last_6mths: double (nullable = true)\n",
      " |-- open_acc: double (nullable = true)\n",
      " |-- pub_rec: double (nullable = true)\n",
      " |-- revol_util: double (nullable = true)\n",
      " |-- emp_length_index: double (nullable = true)\n",
      " |-- label: double (nullable = true)\n",
      "\n",
      "+---------+----------+--------+-----------+---------------+--------------------+----------+-------------------------+-------------+-----+-----------+--------------+--------+-------+----------+----------------+-----+\n",
      "|loan_amnt|term_index|int_rate|grade_index|sub_grade_index|home_ownership_index|annual_inc|verification_status_index|purpose_index|  dti|delinq_2yrs|inq_last_6mths|open_acc|pub_rec|revol_util|emp_length_index|label|\n",
      "+---------+----------+--------+-----------+---------------+--------------------+----------+-------------------------+-------------+-----+-----------+--------------+--------+-------+----------+----------------+-----+\n",
      "|  15500.0|       0.0|   14.49|        1.0|            7.0|                 0.0|   72000.0|                      2.0|          0.0| 6.05|        4.0|           0.0|    13.0|    0.0|      42.5|             7.0|  0.0|\n",
      "|  28000.0|       1.0|   15.61|        3.0|           11.0|                 0.0|  120000.0|                      0.0|          0.0|25.42|        0.0|           3.0|    45.0|    0.0|      82.2|             3.0|  0.0|\n",
      "|  10000.0|       0.0|   12.49|        0.0|            6.0|                 1.0|   35000.0|                      0.0|          1.0| 30.0|        0.0|           0.0|    10.0|    0.0|      77.4|             9.0|  0.0|\n",
      "|  30000.0|       1.0|   18.24|        3.0|           19.0|                 0.0|  500000.0|                      2.0|          0.0|  4.4|        1.0|           1.0|    25.0|    0.0|      41.9|             1.0|  1.0|\n",
      "|  15000.0|       0.0|    9.17|        0.0|            8.0|                 1.0|   56000.0|                      0.0|          1.0|20.66|        0.0|           1.0|    11.0|    0.0|      39.9|             0.0|  0.0|\n",
      "+---------+----------+--------+-----------+---------------+--------------------+----------+-------------------------+-------------+-----+-----------+--------------+--------+-------+----------+----------------+-----+\n",
      "only showing top 5 rows\n",
      "\n"
     ]
    }
   ],
   "source": [
    "data = spark.read.csv(\"preprocessed_data_csv\", header=True, inferSchema=True)\n",
    "\n",
    "data.printSchema()\n",
    "data.show(5)"
   ]
  },
  {
   "cell_type": "code",
   "execution_count": 15,
   "id": "f6e5b59c",
   "metadata": {},
   "outputs": [],
   "source": [
    "input_cols = [col for col in data.columns if col not in [\"default_ind\", \"label\"]]\n",
    "assembler = VectorAssembler(inputCols=input_cols, outputCol=\"features\")\n",
    "assembled_df = assembler.transform(data).select(\"features\", \"label\")"
   ]
  },
  {
   "cell_type": "markdown",
   "id": "69408c8d-f93d-4152-b64e-2e586eaf7b87",
   "metadata": {},
   "source": [
    "Split Data"
   ]
  },
  {
   "cell_type": "code",
   "execution_count": 16,
   "id": "4904ae0e-b46a-4553-8eab-4a489c50b236",
   "metadata": {},
   "outputs": [],
   "source": [
    "train, test = assembled_df.randomSplit([0.7, 0.3], seed=42)"
   ]
  },
  {
   "cell_type": "markdown",
   "id": "9ac1eddc-1a26-45fa-b929-592d1934d906",
   "metadata": {},
   "source": [
    "1st ML model: Decision Tree"
   ]
  },
  {
   "cell_type": "code",
   "execution_count": 18,
   "id": "ae351617-7469-49e0-bd36-c5fa341cb4f0",
   "metadata": {},
   "outputs": [
    {
     "name": "stdout",
     "output_type": "stream",
     "text": [
      "\n",
      " Training Decision Tree...\n"
     ]
    },
    {
     "name": "stderr",
     "output_type": "stream",
     "text": [
      "                                                                                \r"
     ]
    }
   ],
   "source": [
    "print(\"\\n Training Decision Tree...\")\n",
    "dt = DecisionTreeClassifier(labelCol=\"label\", featuresCol=\"features\")\n",
    "dt_model = dt.fit(train)\n",
    "dt_preds = dt_model.transform(test)\n"
   ]
  },
  {
   "cell_type": "markdown",
   "id": "9f0a748b-c3b0-402a-8976-30c3cb335f44",
   "metadata": {},
   "source": [
    "2nd ML model: Random Forest"
   ]
  },
  {
   "cell_type": "code",
   "execution_count": 19,
   "id": "ccc39c30-0747-4572-83c4-6d3178f5bacb",
   "metadata": {},
   "outputs": [
    {
     "name": "stdout",
     "output_type": "stream",
     "text": [
      "\n",
      " Training Random Forest...\n"
     ]
    },
    {
     "name": "stderr",
     "output_type": "stream",
     "text": [
      "                                                                                \r"
     ]
    }
   ],
   "source": [
    "print(\"\\n Training Random Forest...\")\n",
    "rf = RandomForestClassifier(labelCol=\"label\", featuresCol=\"features\", numTrees=50)\n",
    "rf_model = rf.fit(train)\n",
    "rf_preds = rf_model.transform(test)"
   ]
  },
  {
   "cell_type": "markdown",
   "id": "4ae6a403-0264-4ae7-997f-32088fedcff4",
   "metadata": {},
   "source": [
    "3rd ML model: Naive Bayes"
   ]
  },
  {
   "cell_type": "code",
   "execution_count": 20,
   "id": "fc70d7af-0c00-4439-806f-b756eee89a8f",
   "metadata": {},
   "outputs": [
    {
     "name": "stdout",
     "output_type": "stream",
     "text": [
      "\n",
      " Training Naive Bayes...\n"
     ]
    },
    {
     "name": "stderr",
     "output_type": "stream",
     "text": [
      "                                                                                \r"
     ]
    }
   ],
   "source": [
    "print(\"\\n Training Naive Bayes...\")\n",
    "nb = NaiveBayes(labelCol=\"label\", featuresCol=\"features\")\n",
    "nb_model = nb.fit(train)\n",
    "nb_preds = nb_model.transform(test)"
   ]
  },
  {
   "cell_type": "markdown",
   "id": "73989f46-7502-43ea-b7a8-22620f10b073",
   "metadata": {},
   "source": [
    "Define Evaluation Function"
   ]
  },
  {
   "cell_type": "code",
   "execution_count": 25,
   "id": "688ead2e-5224-4f07-a11e-b1ddf153fb7e",
   "metadata": {},
   "outputs": [],
   "source": [
    "from pyspark.ml.evaluation import MulticlassClassificationEvaluator, BinaryClassificationEvaluator\n",
    "\n",
    "def evaluate(predictions):\n",
    "    evaluator_acc = MulticlassClassificationEvaluator(labelCol=\"label\", predictionCol=\"prediction\", metricName=\"accuracy\")\n",
    "    evaluator_prec = MulticlassClassificationEvaluator(labelCol=\"label\", predictionCol=\"prediction\", metricName=\"weightedPrecision\")\n",
    "    evaluator_rec = MulticlassClassificationEvaluator(labelCol=\"label\", predictionCol=\"prediction\", metricName=\"weightedRecall\")\n",
    "    evaluator_auc = BinaryClassificationEvaluator(labelCol=\"label\", rawPredictionCol=\"probability\", metricName=\"areaUnderROC\")\n",
    "\n",
    "    print(\"Accuracy:\", evaluator_acc.evaluate(predictions))\n",
    "    print(\"Precision:\", evaluator_prec.evaluate(predictions))\n",
    "    print(\"Recall:\", evaluator_rec.evaluate(predictions))\n",
    "    print(\"ROC AUC:\", evaluator_auc.evaluate(predictions))\n"
   ]
  },
  {
   "cell_type": "markdown",
   "id": "c2114159",
   "metadata": {
    "vscode": {
     "languageId": "raw"
    }
   },
   "source": [
    "Print result"
   ]
  },
  {
   "cell_type": "code",
   "execution_count": 26,
   "id": "ee75e301",
   "metadata": {},
   "outputs": [
    {
     "name": "stdout",
     "output_type": "stream",
     "text": [
      "\n",
      " Decision Tree Performance:\n"
     ]
    },
    {
     "name": "stderr",
     "output_type": "stream",
     "text": [
      "                                                                                \r"
     ]
    },
    {
     "name": "stdout",
     "output_type": "stream",
     "text": [
      "Accuracy: 0.9459806096234586\n"
     ]
    },
    {
     "name": "stderr",
     "output_type": "stream",
     "text": [
      "                                                                                \r"
     ]
    },
    {
     "name": "stdout",
     "output_type": "stream",
     "text": [
      "Precision: 0.8948793137835704\n"
     ]
    },
    {
     "name": "stderr",
     "output_type": "stream",
     "text": [
      "                                                                                \r"
     ]
    },
    {
     "name": "stdout",
     "output_type": "stream",
     "text": [
      "Recall: 0.9459806096234586\n"
     ]
    },
    {
     "name": "stderr",
     "output_type": "stream",
     "text": [
      "                                                                                \r"
     ]
    },
    {
     "name": "stdout",
     "output_type": "stream",
     "text": [
      "ROC AUC: 0.5\n",
      "\n",
      " Random Forest Performance:\n"
     ]
    },
    {
     "name": "stderr",
     "output_type": "stream",
     "text": [
      "                                                                                \r"
     ]
    },
    {
     "name": "stdout",
     "output_type": "stream",
     "text": [
      "Accuracy: 0.9459806096234586\n"
     ]
    },
    {
     "name": "stderr",
     "output_type": "stream",
     "text": [
      "                                                                                \r"
     ]
    },
    {
     "name": "stdout",
     "output_type": "stream",
     "text": [
      "Precision: 0.8948793137835704\n"
     ]
    },
    {
     "name": "stderr",
     "output_type": "stream",
     "text": [
      "                                                                                \r"
     ]
    },
    {
     "name": "stdout",
     "output_type": "stream",
     "text": [
      "Recall: 0.9459806096234586\n"
     ]
    },
    {
     "name": "stderr",
     "output_type": "stream",
     "text": [
      "                                                                                \r"
     ]
    },
    {
     "name": "stdout",
     "output_type": "stream",
     "text": [
      "ROC AUC: 0.7018771820971957\n",
      "\n",
      " Naive Bayes Performance:\n"
     ]
    },
    {
     "name": "stderr",
     "output_type": "stream",
     "text": [
      "25/05/19 16:23:34 WARN InstanceBuilder: Failed to load implementation from:dev.ludovic.netlib.blas.JNIBLAS\n",
      "25/05/19 16:23:34 WARN InstanceBuilder: Failed to load implementation from:dev.ludovic.netlib.blas.VectorBLAS\n",
      "                                                                                \r"
     ]
    },
    {
     "name": "stdout",
     "output_type": "stream",
     "text": [
      "Accuracy: 0.5108900315376249\n"
     ]
    },
    {
     "name": "stderr",
     "output_type": "stream",
     "text": [
      "                                                                                \r"
     ]
    },
    {
     "name": "stdout",
     "output_type": "stream",
     "text": [
      "Precision: 0.9078485640141597\n"
     ]
    },
    {
     "name": "stderr",
     "output_type": "stream",
     "text": [
      "                                                                                \r"
     ]
    },
    {
     "name": "stdout",
     "output_type": "stream",
     "text": [
      "Recall: 0.5108900315376249\n"
     ]
    },
    {
     "name": "stderr",
     "output_type": "stream",
     "text": [
      "                                                                                \r"
     ]
    },
    {
     "name": "stdout",
     "output_type": "stream",
     "text": [
      "ROC AUC: 0.5617901125426205\n"
     ]
    }
   ],
   "source": [
    "print(\"\\n Decision Tree Performance:\")\n",
    "evaluate(dt_preds)\n",
    "\n",
    "print(\"\\n Random Forest Performance:\")\n",
    "evaluate(rf_preds)\n",
    "\n",
    "print(\"\\n Naive Bayes Performance:\")\n",
    "evaluate(nb_preds)"
   ]
  }
 ],
 "metadata": {
  "kernelspec": {
   "display_name": "base",
   "language": "python",
   "name": "python3"
  },
  "language_info": {
   "codemirror_mode": {
    "name": "ipython",
    "version": 3
   },
   "file_extension": ".py",
   "mimetype": "text/x-python",
   "name": "python",
   "nbconvert_exporter": "python",
   "pygments_lexer": "ipython3",
   "version": "3.12.7"
  }
 },
 "nbformat": 4,
 "nbformat_minor": 5
}
