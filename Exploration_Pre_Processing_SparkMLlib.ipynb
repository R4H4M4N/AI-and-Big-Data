{
 "cells": [
  {
   "cell_type": "code",
   "execution_count": 5,
   "id": "589e9384",
   "metadata": {
    "ExecuteTime": {
     "end_time": "2025-05-18T17:08:19.815419Z",
     "start_time": "2025-05-18T17:08:19.305768Z"
    }
   },
   "outputs": [
    {
     "name": "stderr",
     "output_type": "stream",
     "text": [
      "                                                                                \r"
     ]
    },
    {
     "name": "stdout",
     "output_type": "stream",
     "text": [
      "root\n",
      " |-- id: integer (nullable = true)\n",
      " |-- member_id: integer (nullable = true)\n",
      " |-- loan_amnt: integer (nullable = true)\n",
      " |-- funded_amnt: integer (nullable = true)\n",
      " |-- funded_amnt_inv: double (nullable = true)\n",
      " |-- term: string (nullable = true)\n",
      " |-- int_rate: double (nullable = true)\n",
      " |-- installment: double (nullable = true)\n",
      " |-- grade: string (nullable = true)\n",
      " |-- sub_grade: string (nullable = true)\n",
      " |-- emp_title: string (nullable = true)\n",
      " |-- emp_length: string (nullable = true)\n",
      " |-- home_ownership: string (nullable = true)\n",
      " |-- annual_inc: string (nullable = true)\n",
      " |-- verification_status: string (nullable = true)\n",
      " |-- issue_d: string (nullable = true)\n",
      " |-- pymnt_plan: string (nullable = true)\n",
      " |-- desc: string (nullable = true)\n",
      " |-- purpose: string (nullable = true)\n",
      " |-- title: string (nullable = true)\n",
      " |-- zip_code: string (nullable = true)\n",
      " |-- addr_state: string (nullable = true)\n",
      " |-- dti: string (nullable = true)\n",
      " |-- delinq_2yrs: string (nullable = true)\n",
      " |-- earliest_cr_line: string (nullable = true)\n",
      " |-- inq_last_6mths: string (nullable = true)\n",
      " |-- mths_since_last_delinq: string (nullable = true)\n",
      " |-- mths_since_last_record: string (nullable = true)\n",
      " |-- open_acc: string (nullable = true)\n",
      " |-- pub_rec: string (nullable = true)\n",
      " |-- revol_bal: string (nullable = true)\n",
      " |-- revol_util: string (nullable = true)\n",
      " |-- total_acc: string (nullable = true)\n",
      " |-- initial_list_status: string (nullable = true)\n",
      " |-- out_prncp: string (nullable = true)\n",
      " |-- out_prncp_inv: string (nullable = true)\n",
      " |-- total_pymnt: string (nullable = true)\n",
      " |-- total_pymnt_inv: string (nullable = true)\n",
      " |-- total_rec_prncp: string (nullable = true)\n",
      " |-- total_rec_int: string (nullable = true)\n",
      " |-- total_rec_late_fee: string (nullable = true)\n",
      " |-- recoveries: string (nullable = true)\n",
      " |-- collection_recovery_fee: string (nullable = true)\n",
      " |-- last_pymnt_d: string (nullable = true)\n",
      " |-- last_pymnt_amnt: string (nullable = true)\n",
      " |-- next_pymnt_d: string (nullable = true)\n",
      " |-- last_credit_pull_d: string (nullable = true)\n",
      " |-- collections_12_mths_ex_med: string (nullable = true)\n",
      " |-- mths_since_last_major_derog: string (nullable = true)\n",
      " |-- policy_code: string (nullable = true)\n",
      " |-- application_type: string (nullable = true)\n",
      " |-- annual_inc_joint: string (nullable = true)\n",
      " |-- dti_joint: string (nullable = true)\n",
      " |-- verification_status_joint: string (nullable = true)\n",
      " |-- acc_now_delinq: string (nullable = true)\n",
      " |-- tot_coll_amt: string (nullable = true)\n",
      " |-- tot_cur_bal: string (nullable = true)\n",
      " |-- open_acc_6m: string (nullable = true)\n",
      " |-- open_il_6m: string (nullable = true)\n",
      " |-- open_il_12m: string (nullable = true)\n",
      " |-- open_il_24m: string (nullable = true)\n",
      " |-- mths_since_rcnt_il: string (nullable = true)\n",
      " |-- total_bal_il: string (nullable = true)\n",
      " |-- il_util: string (nullable = true)\n",
      " |-- open_rv_12m: string (nullable = true)\n",
      " |-- open_rv_24m: string (nullable = true)\n",
      " |-- max_bal_bc: string (nullable = true)\n",
      " |-- all_util: string (nullable = true)\n",
      " |-- total_rev_hi_lim: string (nullable = true)\n",
      " |-- inq_fi: string (nullable = true)\n",
      " |-- total_cu_tl: string (nullable = true)\n",
      " |-- inq_last_12m: integer (nullable = true)\n",
      " |-- default_ind: integer (nullable = true)\n",
      "\n"
     ]
    },
    {
     "name": "stderr",
     "output_type": "stream",
     "text": [
      "25/05/19 18:24:58 WARN SparkStringUtils: Truncated the string representation of a plan since it was too large. This behavior can be adjusted by setting 'spark.sql.debug.maxToStringFields'.\n",
      "                                                                                \r"
     ]
    },
    {
     "name": "stdout",
     "output_type": "stream",
     "text": [
      "+-------+---------+---------+-----------+---------------+----------+--------+-----------+-----+---------+--------------------+----------+--------------+----------+-------------------+----------+----------+--------------------+--------------+--------------------+--------+----------+-----+-----------+----------------+--------------+----------------------+----------------------+--------+-------+---------+----------+---------+-------------------+---------+-------------+-----------+---------------+---------------+-------------+------------------+----------+-----------------------+------------+---------------+------------+------------------+--------------------------+---------------------------+-----------+----------------+----------------+---------+-------------------------+--------------+------------+-----------+-----------+----------+-----------+-----------+------------------+------------+-------+-----------+-----------+----------+--------+----------------+------+-----------+------------+-----------+\n",
      "|     id|member_id|loan_amnt|funded_amnt|funded_amnt_inv|      term|int_rate|installment|grade|sub_grade|           emp_title|emp_length|home_ownership|annual_inc|verification_status|   issue_d|pymnt_plan|                desc|       purpose|               title|zip_code|addr_state|  dti|delinq_2yrs|earliest_cr_line|inq_last_6mths|mths_since_last_delinq|mths_since_last_record|open_acc|pub_rec|revol_bal|revol_util|total_acc|initial_list_status|out_prncp|out_prncp_inv|total_pymnt|total_pymnt_inv|total_rec_prncp|total_rec_int|total_rec_late_fee|recoveries|collection_recovery_fee|last_pymnt_d|last_pymnt_amnt|next_pymnt_d|last_credit_pull_d|collections_12_mths_ex_med|mths_since_last_major_derog|policy_code|application_type|annual_inc_joint|dti_joint|verification_status_joint|acc_now_delinq|tot_coll_amt|tot_cur_bal|open_acc_6m|open_il_6m|open_il_12m|open_il_24m|mths_since_rcnt_il|total_bal_il|il_util|open_rv_12m|open_rv_24m|max_bal_bc|all_util|total_rev_hi_lim|inq_fi|total_cu_tl|inq_last_12m|default_ind|\n",
      "+-------+---------+---------+-----------+---------------+----------+--------+-----------+-----+---------+--------------------+----------+--------------+----------+-------------------+----------+----------+--------------------+--------------+--------------------+--------+----------+-----+-----------+----------------+--------------+----------------------+----------------------+--------+-------+---------+----------+---------+-------------------+---------+-------------+-----------+---------------+---------------+-------------+------------------+----------+-----------------------+------------+---------------+------------+------------------+--------------------------+---------------------------+-----------+----------------+----------------+---------+-------------------------+--------------+------------+-----------+-----------+----------+-----------+-----------+------------------+------------+-------+-----------+-----------+----------+--------+----------------+------+-----------+------------+-----------+\n",
      "|1077501|  1296599|     5000|       5000|         4975.0| 36 months|   10.65|     162.87|    B|       B2|                NULL| 10+ years|          RENT|     24000|           Verified|01-12-2011|         n|  Borrower added ...|   credit_card|            Computer|   860xx|        AZ|27.65|          0|      01-01-1985|             1|                  NULL|                  NULL|       3|      0|    13648|      83.7|        9|                  f|        0|            0|5861.071414|        5831.78|           5000|       861.07|                 0|         0|                      0|  01-01-2015|         171.62|        NULL|        01-01-2016|                         0|                       NULL|          1|      INDIVIDUAL|            NULL|     NULL|                     NULL|             0|        NULL|       NULL|       NULL|      NULL|       NULL|       NULL|              NULL|        NULL|   NULL|       NULL|       NULL|      NULL|    NULL|            NULL|  NULL|       NULL|        NULL|          0|\n",
      "|1077430|  1314167|     2500|       2500|         2500.0| 60 months|   15.27|      59.83|    C|       C4|               Ryder|  < 1 year|          RENT|     30000|    Source Verified|01-12-2011|         n|  Borrower added ...|           car|                bike|   309xx|        GA|    1|          0|      01-04-1999|             5|                  NULL|                  NULL|       3|      0|     1687|       9.4|        4|                  f|        0|            0|    1008.71|        1008.71|         456.46|       435.17|                 0|    117.08|                   1.11|  01-04-2013|         119.66|        NULL|        01-09-2013|                         0|                       NULL|          1|      INDIVIDUAL|            NULL|     NULL|                     NULL|             0|        NULL|       NULL|       NULL|      NULL|       NULL|       NULL|              NULL|        NULL|   NULL|       NULL|       NULL|      NULL|    NULL|            NULL|  NULL|       NULL|        NULL|          1|\n",
      "|1077175|  1313524|     2400|       2400|         2400.0| 36 months|   15.96|      84.33|    C|       C5|                NULL| 10+ years|          RENT|     12252|       Not Verified|01-12-2011|         n|                NULL|small_business|real estate business|   606xx|        IL| 8.72|          0|      01-11-2001|             2|                  NULL|                  NULL|       2|      0|     2956|      98.5|       10|                  f|        0|            0|3003.653644|        3003.65|           2400|       603.65|                 0|         0|                      0|  01-06-2014|         649.91|        NULL|        01-01-2016|                         0|                       NULL|          1|      INDIVIDUAL|            NULL|     NULL|                     NULL|             0|        NULL|       NULL|       NULL|      NULL|       NULL|       NULL|              NULL|        NULL|   NULL|       NULL|       NULL|      NULL|    NULL|            NULL|  NULL|       NULL|        NULL|          0|\n",
      "|1076863|  1277178|    10000|      10000|        10000.0| 36 months|   13.49|     339.31|    C|       C1| AIR RESOURCES BOARD| 10+ years|          RENT|     49200|    Source Verified|01-12-2011|         n|  Borrower added ...|         other|            personel|   917xx|        CA|   20|          0|      01-02-1996|             1|                    35|                  NULL|      10|      0|     5598|        21|       37|                  f|        0|            0|12226.30221|        12226.3|          10000|      2209.33|             16.97|         0|                      0|  01-01-2015|         357.48|        NULL|        01-01-2015|                         0|                       NULL|          1|      INDIVIDUAL|            NULL|     NULL|                     NULL|             0|        NULL|       NULL|       NULL|      NULL|       NULL|       NULL|              NULL|        NULL|   NULL|       NULL|       NULL|      NULL|    NULL|            NULL|  NULL|       NULL|        NULL|          0|\n",
      "|1075358|  1311748|     3000|       3000|         3000.0| 60 months|   12.69|      67.79|    B|       B5|University Medica...|    1 year|          RENT|     80000|    Source Verified|01-12-2011|         n|  Borrower added ...|         other|            Personal|   972xx|        OR|17.94|          0|      01-01-1996|             0|                    38|                  NULL|      15|      0|    27783|      53.9|       38|                  f|    766.9|        766.9|    3242.17|        3242.17|         2233.1|      1009.07|                 0|         0|                      0|  01-01-2016|          67.79|  01-02-2016|        01-01-2016|                         0|                       NULL|          1|      INDIVIDUAL|            NULL|     NULL|                     NULL|             0|        NULL|       NULL|       NULL|      NULL|       NULL|       NULL|              NULL|        NULL|   NULL|       NULL|       NULL|      NULL|    NULL|            NULL|  NULL|       NULL|        NULL|          0|\n",
      "+-------+---------+---------+-----------+---------------+----------+--------+-----------+-----+---------+--------------------+----------+--------------+----------+-------------------+----------+----------+--------------------+--------------+--------------------+--------+----------+-----+-----------+----------------+--------------+----------------------+----------------------+--------+-------+---------+----------+---------+-------------------+---------+-------------+-----------+---------------+---------------+-------------+------------------+----------+-----------------------+------------+---------------+------------+------------------+--------------------------+---------------------------+-----------+----------------+----------------+---------+-------------------------+--------------+------------+-----------+-----------+----------+-----------+-----------+------------------+------------+-------+-----------+-----------+----------+--------+----------------+------+-----------+------------+-----------+\n",
      "only showing top 5 rows\n",
      "\n"
     ]
    }
   ],
   "source": [
    "#Initialize SparkSession\n",
    "from pyspark.sql import SparkSession\n",
    "\n",
    "spark = SparkSession.builder \\\n",
    "    .appName(\"CreditRiskAnalysis\") \\\n",
    "    .getOrCreate()\n",
    "\n",
    "#Load the CSV data into a Spark DataFrame\n",
    "data_path = \"/Users/tanvirsmac/Downloads/ComputerScience/3rd_Year/2nd semester/CSCI316/GP/data.csv\"\n",
    "df = spark.read.csv(data_path, header=True, inferSchema=True)\n",
    "df.printSchema()\n",
    "df.show(5)"
   ]
  },
  {
   "cell_type": "code",
   "execution_count": 6,
   "id": "dcf9324f",
   "metadata": {},
   "outputs": [
    {
     "name": "stderr",
     "output_type": "stream",
     "text": [
      "                                                                                \r"
     ]
    },
    {
     "name": "stdout",
     "output_type": "stream",
     "text": [
      "Total number of loans: 855969\n",
      "Number of columns: 73\n"
     ]
    },
    {
     "name": "stderr",
     "output_type": "stream",
     "text": [
      "                                                                                \r"
     ]
    },
    {
     "name": "stdout",
     "output_type": "stream",
     "text": [
      "+-------+--------------------+--------------------+------------------+------------------+------------------+----------+------------------+------------------+------+---------+--------------------+----------+--------------+-----------------+-------------------+---------------+----------+--------------------+--------------------+--------------------+--------------------+--------------------+------------------+------------------+------------------+------------------+----------------------+----------------------+-----------------+--------------------+--------------------+--------------------+--------------------+--------------------+-----------------+--------------------+-----------------+--------------------+--------------------+------------------+--------------------+-----------------+-----------------------+------------------+-----------------+------------------+------------------+--------------------------+---------------------------+------------------+-----------------+-----------------+------------------+-------------------------+-------------------+------------------+------------------+------------------+------------------+------------------+-----------------+------------------+-----------------+-----------------+------------------+------------------+-----------------+------------------+------------------+------------------+------------------+------------------+-------------------+\n",
      "|summary|                  id|           member_id|         loan_amnt|       funded_amnt|   funded_amnt_inv|      term|          int_rate|       installment| grade|sub_grade|           emp_title|emp_length|home_ownership|       annual_inc|verification_status|        issue_d|pymnt_plan|                desc|             purpose|               title|            zip_code|          addr_state|               dti|       delinq_2yrs|  earliest_cr_line|    inq_last_6mths|mths_since_last_delinq|mths_since_last_record|         open_acc|             pub_rec|           revol_bal|          revol_util|           total_acc| initial_list_status|        out_prncp|       out_prncp_inv|      total_pymnt|     total_pymnt_inv|     total_rec_prncp|     total_rec_int|  total_rec_late_fee|       recoveries|collection_recovery_fee|      last_pymnt_d|  last_pymnt_amnt|      next_pymnt_d|last_credit_pull_d|collections_12_mths_ex_med|mths_since_last_major_derog|       policy_code| application_type| annual_inc_joint|         dti_joint|verification_status_joint|     acc_now_delinq|      tot_coll_amt|       tot_cur_bal|       open_acc_6m|        open_il_6m|       open_il_12m|      open_il_24m|mths_since_rcnt_il|     total_bal_il|          il_util|       open_rv_12m|       open_rv_24m|       max_bal_bc|          all_util|  total_rev_hi_lim|            inq_fi|       total_cu_tl|      inq_last_12m|        default_ind|\n",
      "+-------+--------------------+--------------------+------------------+------------------+------------------+----------+------------------+------------------+------+---------+--------------------+----------+--------------+-----------------+-------------------+---------------+----------+--------------------+--------------------+--------------------+--------------------+--------------------+------------------+------------------+------------------+------------------+----------------------+----------------------+-----------------+--------------------+--------------------+--------------------+--------------------+--------------------+-----------------+--------------------+-----------------+--------------------+--------------------+------------------+--------------------+-----------------+-----------------------+------------------+-----------------+------------------+------------------+--------------------------+---------------------------+------------------+-----------------+-----------------+------------------+-------------------------+-------------------+------------------+------------------+------------------+------------------+------------------+-----------------+------------------+-----------------+-----------------+------------------+------------------+-----------------+------------------+------------------+------------------+------------------+------------------+-------------------+\n",
      "|  count|              855969|              855969|            855969|            855969|            855969|    855969|            855969|            855969|855969|   855969|              806530|    855969|        855969|           855969|             855969|         855969|    855969|              121814|              855968|              855936|              855968|              855968|            855968|            855968|            855968|            855968|                416300|                131356|           855897|              855912|              855922|              855494|              855952|              855955|           855954|              855948|           855957|              855959|              855960|            855966|              855966|           855967|                 855964|            847100|           855966|            603218|            855867|                    855870|                     213332|            855897|           855912|              626|               587|                      551|             855826|            788771|            788745|             13369|             13353|             13331|            13322|             12959|            13314|            11632|             13299|             13305|            13301|             13294|            788658|             13293|             13297|             13289|             855746|\n",
      "|   mean|3.2240726286145877E7|3.4762690042003855E7|14745.571334943204|14732.378304588134|14700.061225999756|      NULL|13.192319605030619|436.23807183435525|  NULL|     NULL|1.2810941556818182E7|      NULL|          NULL|75071.22927176018|            38000.0|           NULL|      NULL|                NULL|               384.0|            Infinity|                 0.0|                NULL| 18.12381012757326|0.3123480678154647|26.896086956521735|0.6822168381595152|    34.142634058902544|     70.42372760102394|11.54296815097585|  0.1960765625712012|   16908.69626299838|   55.91715695821089|  25.968200584869795|  2263.0536559139778|8285.895498355665|   8282.436991670804|7650.628777464487|  7620.4391868036055|   5849.749878239306|1756.4741183920219|  1.7748607324743946|48.21955402103518|       5.62035404913963|1976.5201959016651| 2225.96973619831|2717.9857799171273|3367.8102573918713|       0.38861753160172524|          45.53334005049339|1.1955796674413361|720.6995652173914|86393.42756045343|255.30688804554083|        2319.298032786885|0.10623780751160922| 225.4549463071762|139753.06323234446| 18.59975509286998|3.5713591723517504|1.5689154273696861|2.734639128802103| 22.10486448922863|36465.59811198797|71.37272508384228|1.4044558923065353|2.9427202345159347|5838.685826060789|61.009643421349395|32163.519162322784|1.8130173062452972| 1.523315282791817|1.8418240650161788|0.05426376518265934|\n",
      "| stddev|2.2719691565777775E7|2.3994176796813414E7| 8425.340005005308| 8419.471653319746| 8425.805478470182|      NULL| 4.368365181701446|243.72687616798345|  NULL|     NULL|  8.34575692812245E7|      NULL|          NULL|64264.49486103638|               NULL|           NULL|      NULL|                NULL|   543.0580079512685|                 NaN|                NULL|                NULL|17.425265176637346|0.8637496886299696|209.15285346366267|1.3034984573776183|    21.871669441275305|    27.863588281242063|5.312046264424053|   0.634381993276861|  22224.042643877063|  179.70164509533814|   163.6776277696619|   7051.063987047671|8462.087431679474|   8458.623937727201|7909.012728877139|    7885.00474480918|    6676.54230492973| 2093.289304829819|  154.32649175739445|433.8137210798983|     116.56184154389143| 4954.840516380205|4865.299583611441| 5349.237639779675| 6331.137195930885|         74.56147279197039|         215.39083961171096|  50.0379404040134|2933.559501651738| 60512.8805723007|1608.7839691240238|        4688.120511662365| 31.293049931115338|10488.878812417912|153937.30659434057|1911.5780476942048| 69.40644079814113|60.390178110053284| 68.7627527866157| 109.9153258487779|42485.05760864883|23.17729877069355| 4.432960390363493| 2.595224748408899|5108.735931018706|20.038139706725396|37699.641594377696| 99.75735040533151|2.6970485485871754| 2.974979879227414| 0.2265375662910512|\n",
      "|    min|               54734|               70699|               500|               500|               0.0| 36 months|              5.32|             15.69|     A|       A1| \\tAdv Mtr Proj F...| reactors\"|       2 years|                0|              38000|     01-01-2008|01-10-2015|\\t Loan for purch...|      After gradu...|       \\tcredit_card| \"\"set it and for...| American women u...|       Karen     \"|          BEST BUY|           Mike  \"|               809|   Capital One ($27...|    I am currently ...|          Carlos\"| I plan on elimin...| I'm sure)!!  Ple...| #450216.<br/> 55...| and the work we ...| I am working on ...|    I mean.<br/>\"| and I pay her tu...|     and opinions| extremely rare t...| I need to hit th...|             of $2| and continue to ...|                0|                      0|                 0|                0|                 0|                 0|                         0|                          0|                 0|                0|                0|                 0|                        0|                  0|                 0|                 0|                 0|                 0|                 0|                0|                 0|                0|                0|                 0|                 0|                0|                 0|                 0|                 0|                 0|                -4|                  0|\n",
      "|    max|            68616867|            73519693|             35000|             35000|           35000.0| 60 months|             28.99|           1445.46|     G|       G5|â€‹License Compli...|       n/a|          RENT|         MORTGAGE|           Verified|Source Verified|         y|~20K total in med...|             wedding|Ã®ÂÂ—Ã®ÂÂ—MY FI...|      small_business|             wedding|           wedding|    small_business|    small_business|    small_business|      stupid decisions|        small_business| home_improvement|    home_improvement|  debt_consolidation|              moving|      small_business|                   w|   small_business|               other|                f|savy debt consoli...|                   f|                 f|                   f|   small_business|   xperienceddebtorq...|                 f|                f|                 f|                 f|                         f|                         99|                 f|                f|                f|                 f|                        f|         INDIVIDUAL|        INDIVIDUAL|                 f|        INDIVIDUAL|        INDIVIDUAL|        INDIVIDUAL|       INDIVIDUAL|        INDIVIDUAL|       INDIVIDUAL|       INDIVIDUAL|        INDIVIDUAL|                 9|       INDIVIDUAL|        INDIVIDUAL|        INDIVIDUAL|        INDIVIDUAL|        INDIVIDUAL|                32|                  1|\n",
      "+-------+--------------------+--------------------+------------------+------------------+------------------+----------+------------------+------------------+------+---------+--------------------+----------+--------------+-----------------+-------------------+---------------+----------+--------------------+--------------------+--------------------+--------------------+--------------------+------------------+------------------+------------------+------------------+----------------------+----------------------+-----------------+--------------------+--------------------+--------------------+--------------------+--------------------+-----------------+--------------------+-----------------+--------------------+--------------------+------------------+--------------------+-----------------+-----------------------+------------------+-----------------+------------------+------------------+--------------------------+---------------------------+------------------+-----------------+-----------------+------------------+-------------------------+-------------------+------------------+------------------+------------------+------------------+------------------+-----------------+------------------+-----------------+-----------------+------------------+------------------+-----------------+------------------+------------------+------------------+------------------+------------------+-------------------+\n",
      "\n"
     ]
    }
   ],
   "source": [
    "#Total number of records (rows)\n",
    "total_count = df.count()\n",
    "print(f\"Total number of loans: {total_count}\")\n",
    "\n",
    "#Number of columns\n",
    "num_cols = len(df.columns)\n",
    "print(f\"Number of columns: {num_cols}\")\n",
    "\n",
    "#Summary statistics for numeric columns\n",
    "df.describe().show()\n"
   ]
  },
  {
   "cell_type": "code",
   "execution_count": 7,
   "id": "6b02daf1",
   "metadata": {},
   "outputs": [
    {
     "name": "stderr",
     "output_type": "stream",
     "text": [
      "[Stage 9:=======>                                                   (1 + 7) / 8]\r"
     ]
    },
    {
     "name": "stdout",
     "output_type": "stream",
     "text": [
      "+---+---------+---------+-----------+---------------+----+--------+-----------+-----+---------+---------+----------+--------------+----------+-------------------+-------+----------+------+-------+-----+--------+----------+---+-----------+----------------+--------------+----------------------+----------------------+--------+-------+---------+----------+---------+-------------------+---------+-------------+-----------+---------------+---------------+-------------+------------------+----------+-----------------------+------------+---------------+------------+------------------+--------------------------+---------------------------+-----------+----------------+----------------+---------+-------------------------+--------------+------------+-----------+-----------+----------+-----------+-----------+------------------+------------+-------+-----------+-----------+----------+--------+----------------+------+-----------+------------+-----------+\n",
      "| id|member_id|loan_amnt|funded_amnt|funded_amnt_inv|term|int_rate|installment|grade|sub_grade|emp_title|emp_length|home_ownership|annual_inc|verification_status|issue_d|pymnt_plan|  desc|purpose|title|zip_code|addr_state|dti|delinq_2yrs|earliest_cr_line|inq_last_6mths|mths_since_last_delinq|mths_since_last_record|open_acc|pub_rec|revol_bal|revol_util|total_acc|initial_list_status|out_prncp|out_prncp_inv|total_pymnt|total_pymnt_inv|total_rec_prncp|total_rec_int|total_rec_late_fee|recoveries|collection_recovery_fee|last_pymnt_d|last_pymnt_amnt|next_pymnt_d|last_credit_pull_d|collections_12_mths_ex_med|mths_since_last_major_derog|policy_code|application_type|annual_inc_joint|dti_joint|verification_status_joint|acc_now_delinq|tot_coll_amt|tot_cur_bal|open_acc_6m|open_il_6m|open_il_12m|open_il_24m|mths_since_rcnt_il|total_bal_il|il_util|open_rv_12m|open_rv_24m|max_bal_bc|all_util|total_rev_hi_lim|inq_fi|total_cu_tl|inq_last_12m|default_ind|\n",
      "+---+---------+---------+-----------+---------------+----+--------+-----------+-----+---------+---------+----------+--------------+----------+-------------------+-------+----------+------+-------+-----+--------+----------+---+-----------+----------------+--------------+----------------------+----------------------+--------+-------+---------+----------+---------+-------------------+---------+-------------+-----------+---------------+---------------+-------------+------------------+----------+-----------------------+------------+---------------+------------+------------------+--------------------------+---------------------------+-----------+----------------+----------------+---------+-------------------------+--------------+------------+-----------+-----------+----------+-----------+-----------+------------------+------------+-------+-----------+-----------+----------+--------+----------------+------+-----------+------------+-----------+\n",
      "|  0|        0|        0|          0|              0|   0|       0|          0|    0|        0|    49439|         0|             0|         0|                  0|      0|         0|734155|      1|   33|       1|         1|  1|          1|               1|             1|                439669|                724613|      72|     57|       47|       475|       17|                 14|       15|           21|         12|             10|              9|            3|                 3|         2|                      5|        8869|              3|      252751|               102|                        99|                     642637|         72|              57|          855343|   855382|                   855418|           143|       67198|      67224|     842600|    842616|     842638|     842647|            843010|      842655| 844337|     842670|     842664|    842668|  842675|           67311|842676|     842672|      842680|        223|\n",
      "+---+---------+---------+-----------+---------------+----+--------+-----------+-----+---------+---------+----------+--------------+----------+-------------------+-------+----------+------+-------+-----+--------+----------+---+-----------+----------------+--------------+----------------------+----------------------+--------+-------+---------+----------+---------+-------------------+---------+-------------+-----------+---------------+---------------+-------------+------------------+----------+-----------------------+------------+---------------+------------+------------------+--------------------------+---------------------------+-----------+----------------+----------------+---------+-------------------------+--------------+------------+-----------+-----------+----------+-----------+-----------+------------------+------------+-------+-----------+-----------+----------+--------+----------------+------+-----------+------------+-----------+\n",
      "\n"
     ]
    },
    {
     "name": "stderr",
     "output_type": "stream",
     "text": [
      "                                                                                \r"
     ]
    }
   ],
   "source": [
    "from pyspark.sql.functions import col, sum\n",
    "\n",
    "# Count missing (null) values in each column\n",
    "missing_counts = df.select([sum(col(c).isNull().cast(\"int\")).alias(c) for c in df.columns])\n",
    "missing_counts.show()"
   ]
  },
  {
   "cell_type": "code",
   "execution_count": 8,
   "id": "801e418d",
   "metadata": {},
   "outputs": [],
   "source": [
    "# Drop columns that are not useful for analysis\n",
    "cols_to_drop = [\"id\", \"member_id\", \"desc\", \"url\", \"title\"]  # IDs, descriptions, URLs\n",
    "df = df.drop(*[c for c in cols_to_drop if c in df.columns])\n",
    "\n",
    "# Fill missing values for certain columns\n",
    "# Example: employment length (emp_length) - fill null with '0 years' indicating no info\n",
    "if 'emp_length' in df.columns:\n",
    "    df = df.fillna({'emp_length': '0 years'})\n",
    "# Example: months since last delinquency - fill null with 0 (meaning no delinquency on record)\n",
    "if 'mths_since_last_delinq' in df.columns:\n",
    "    df = df.fillna({'mths_since_last_delinq': 0})"
   ]
  },
  {
   "cell_type": "code",
   "execution_count": 9,
   "id": "5632d9a8",
   "metadata": {},
   "outputs": [
    {
     "name": "stderr",
     "output_type": "stream",
     "text": [
      "[Stage 12:==========================================================(8 + 0) / 8]\r"
     ]
    },
    {
     "name": "stdout",
     "output_type": "stream",
     "text": [
      "+-----------+------+\n",
      "|default_ind| count|\n",
      "+-----------+------+\n",
      "|       NULL|   223|\n",
      "|          1| 46436|\n",
      "|          0|809310|\n",
      "+-----------+------+\n",
      "\n"
     ]
    },
    {
     "name": "stderr",
     "output_type": "stream",
     "text": [
      "                                                                                \r"
     ]
    }
   ],
   "source": [
    "# Calculate class distribution of default_ind\n",
    "df.groupBy('default_ind').count().show()\n"
   ]
  },
  {
   "cell_type": "code",
   "execution_count": 10,
   "id": "b820f66a",
   "metadata": {},
   "outputs": [
    {
     "name": "stderr",
     "output_type": "stream",
     "text": [
      "[Stage 15:>                                                         (0 + 8) / 8]\r"
     ]
    },
    {
     "name": "stdout",
     "output_type": "stream",
     "text": [
      "Default rate: 99.52%\n"
     ]
    },
    {
     "name": "stderr",
     "output_type": "stream",
     "text": [
      "                                                                                \r"
     ]
    }
   ],
   "source": [
    "result = df.groupBy('default_ind').count().collect()\n",
    "total = result[0]['count'] + result[1]['count']\n",
    "rate_default = result[1]['count'] / total * 100\n",
    "print(f\"Default rate: {rate_default:.2f}%\")\n"
   ]
  },
  {
   "cell_type": "code",
   "execution_count": 11,
   "id": "08ec51b0",
   "metadata": {},
   "outputs": [
    {
     "data": {
      "image/png": "[encoded data removed]",
      "text/plain": [
       "<Figure size 400x400 with 1 Axes>"
      ]
     },
     "metadata": {},
     "output_type": "display_data"
    }
   ],
   "source": [
    "# Get counts for plotting\n",
    "counts = {row['default_ind']: row['count'] for row in result}\n",
    "classes = ['No Default (0)', 'Default (1)']\n",
    "values = [counts.get(0, 0), counts.get(1, 0)]\n",
    "\n",
    "import matplotlib.pyplot as plt\n",
    "plt.figure(figsize=(4,4))\n",
    "plt.bar(classes, values, color=['skyblue','salmon'])\n",
    "plt.title(\"Loan Default Distribution\")\n",
    "plt.ylabel(\"Number of Loans\")\n",
    "for i, val in enumerate(values):\n",
    "    plt.text(i, val + 500, str(val), ha='center')  # annotate counts\n",
    "plt.show()\n"
   ]
  },
  {
   "cell_type": "code",
   "execution_count": 12,
   "id": "b98e7a84",
   "metadata": {},
   "outputs": [
    {
     "name": "stderr",
     "output_type": "stream",
     "text": [
      "[Stage 18:==========================================================(8 + 0) / 8]\r"
     ]
    },
    {
     "name": "stdout",
     "output_type": "stream",
     "text": [
      "+-----------+------------------+------------------+-----------------+------------------+\n",
      "|default_ind|     avg_loan_amnt|      avg_int_rate|   avg_annual_inc|           avg_dti|\n",
      "+-----------+------------------+------------------+-----------------+------------------+\n",
      "|       NULL|11714.349775784753|12.194529147982067|75596.20036036035|              NULL|\n",
      "|          1|14574.475083986563|16.020520070634642|65131.56913816867| 18.44807059482276|\n",
      "|          0|14756.223604057777|13.030320112192333|75641.39585116955|18.105205724883753|\n",
      "+-----------+------------------+------------------+-----------------+------------------+\n",
      "\n"
     ]
    },
    {
     "name": "stderr",
     "output_type": "stream",
     "text": [
      "                                                                                \r"
     ]
    }
   ],
   "source": [
    "from pyspark.sql.functions import mean, stddev, expr\n",
    "\n",
    "# compute average values of some numeric features grouped by default status\n",
    "df.groupBy('default_ind').agg(\n",
    "    mean('loan_amnt').alias('avg_loan_amnt'),\n",
    "    mean('int_rate').alias('avg_int_rate'),\n",
    "    mean('annual_inc').alias('avg_annual_inc'),\n",
    "    mean('dti').alias('avg_dti')\n",
    ").show()\n"
   ]
  },
  {
   "cell_type": "code",
   "execution_count": 13,
   "id": "117c9939",
   "metadata": {},
   "outputs": [
    {
     "name": "stderr",
     "output_type": "stream",
     "text": [
      "[Stage 21:>                                                         (0 + 8) / 8]\r"
     ]
    },
    {
     "name": "stdout",
     "output_type": "stream",
     "text": [
      "+----------+--------------------+------+\n",
      "|      term|        default_rate| count|\n",
      "+----------+--------------------+------+\n",
      "| 36 months|0.049613842343678646|600221|\n",
      "| 60 months| 0.06517369746453318|255748|\n",
      "+----------+--------------------+------+\n",
      "\n"
     ]
    },
    {
     "name": "stderr",
     "output_type": "stream",
     "text": [
      "                                                                                \r"
     ]
    }
   ],
   "source": [
    "from pyspark.sql.functions import expr, count\n",
    "\n",
    "df.groupBy('term').agg(expr(\"mean(default_ind) as default_rate\"), count(\"*\").alias(\"count\")).show()\n",
    "\n"
   ]
  },
  {
   "cell_type": "code",
   "execution_count": 14,
   "id": "caecf4c8",
   "metadata": {},
   "outputs": [
    {
     "name": "stderr",
     "output_type": "stream",
     "text": [
      "[Stage 24:=============================>                            (4 + 4) / 8]\r"
     ]
    },
    {
     "name": "stdout",
     "output_type": "stream",
     "text": [
      "+-----+--------------------+------+\n",
      "|grade|        default_rate| count|\n",
      "+-----+--------------------+------+\n",
      "|    A|0.018287197588259935|145665|\n",
      "|    B| 0.03916245825198858|247998|\n",
      "|    C|0.054875216418225584|236855|\n",
      "|    D| 0.08126021495657937|132802|\n",
      "|    E| 0.09716410271848752| 66448|\n",
      "|    F| 0.14125592083665525| 21328|\n",
      "|    G|  0.1669061794292753|  4873|\n",
      "+-----+--------------------+------+\n",
      "\n"
     ]
    },
    {
     "name": "stderr",
     "output_type": "stream",
     "text": [
      "                                                                                \r"
     ]
    }
   ],
   "source": [
    "df.groupBy('grade').agg(expr(\"mean(default_ind) as default_rate\"), count(\"*\").alias(\"count\")).orderBy(\"grade\").show()\n"
   ]
  },
  {
   "cell_type": "code",
   "execution_count": 15,
   "id": "e6693825",
   "metadata": {},
   "outputs": [
    {
     "name": "stderr",
     "output_type": "stream",
     "text": [
      "                                                                                \r"
     ]
    },
    {
     "data": {
      "image/png": "[encoded data removed]",
      "text/plain": [
       "<Figure size 600x400 with 1 Axes>"
      ]
     },
     "metadata": {},
     "output_type": "display_data"
    }
   ],
   "source": [
    "# Collect default rates by grade for plotting\n",
    "grade_stats = df.groupBy('grade').agg(expr(\"mean(default_ind) as default_rate\")).orderBy(\"grade\").collect()\n",
    "grades = [row['grade'] for row in grade_stats]\n",
    "default_rates = [row['default_rate'] for row in grade_stats]\n",
    "\n",
    "plt.figure(figsize=(6,4))\n",
    "plt.bar(grades, [r*100 for r in default_rates], color='orange')\n",
    "plt.title(\"Default Rate by Loan Grade\")\n",
    "plt.xlabel(\"Loan Grade\")\n",
    "plt.ylabel(\"% of Loans Defaulted\")\n",
    "plt.show()\n"
   ]
  },
  {
   "cell_type": "code",
   "execution_count": 16,
   "id": "d6c9f2b9",
   "metadata": {},
   "outputs": [
    {
     "name": "stderr",
     "output_type": "stream",
     "text": [
      "[Stage 35:>                                                         (0 + 8) / 8]\r"
     ]
    },
    {
     "name": "stdout",
     "output_type": "stream",
     "text": [
      "+--------------+--------------------+------+\n",
      "|home_ownership|        default_rate| count|\n",
      "+--------------+--------------------+------+\n",
      "|           OWN|0.049109584155590955| 84136|\n",
      "|          RENT| 0.06397425376512401|342535|\n",
      "|      MORTGAGE| 0.04746898141565486|429105|\n",
      "|         OTHER|              0.1875|   144|\n",
      "|          NONE| 0.15555555555555556|    45|\n",
      "|           ANY|                 0.0|     3|\n",
      "|       2 years|                NULL|     1|\n",
      "+--------------+--------------------+------+\n",
      "\n"
     ]
    },
    {
     "name": "stderr",
     "output_type": "stream",
     "text": [
      "                                                                                \r"
     ]
    }
   ],
   "source": [
    "df.groupBy('home_ownership').agg(expr(\"mean(default_ind) as default_rate\"), count(\"*\").alias(\"count\")).show()\n"
   ]
  },
  {
   "cell_type": "code",
   "execution_count": 17,
   "id": "897234c3",
   "metadata": {},
   "outputs": [
    {
     "name": "stderr",
     "output_type": "stream",
     "text": [
      "[Stage 38:>                                                         (0 + 8) / 8]\r"
     ]
    },
    {
     "name": "stdout",
     "output_type": "stream",
     "text": [
      "+--------------------+-------------------+-----+\n",
      "|             purpose|       default_rate|count|\n",
      "+--------------------+-------------------+-----+\n",
      "| so that our comp...|                1.0|    1|\n",
      "|          550 amount|                1.0|    1|\n",
      "|         educational|0.17088607594936708|  316|\n",
      "|      small_business|0.14133442656554268| 9757|\n",
      "|             wedding|0.11638120333772507| 2277|\n",
      "|    renewable_energy|0.09836065573770492|  549|\n",
      "|              moving|0.08451250242295018| 5159|\n",
      "|               house|0.08352337514253136| 3508|\n",
      "|               other|0.07325416605580805|40926|\n",
      "|             medical|0.07107962872496336| 8188|\n",
      "+--------------------+-------------------+-----+\n",
      "only showing top 10 rows\n",
      "\n"
     ]
    },
    {
     "name": "stderr",
     "output_type": "stream",
     "text": [
      "                                                                                \r"
     ]
    }
   ],
   "source": [
    "df.groupBy('purpose').agg(expr(\"mean(default_ind) as default_rate\"), count(\"*\").alias(\"count\")).orderBy(\"default_rate\", ascending=False).show(10)\n"
   ]
  },
  {
   "cell_type": "code",
   "execution_count": 18,
   "id": "420632a8",
   "metadata": {},
   "outputs": [],
   "source": [
    "from pyspark.sql.functions import col\n",
    "\n",
    "numeric_cols = ['int_rate','loan_amnt','dti','annual_inc','revol_util','open_acc','delinq_2yrs']\n",
    "for colname in numeric_cols:\n",
    "    df = df.withColumn(colname, col(colname).cast('double'))  # or 'int' if you prefer\n"
   ]
  },
  {
   "cell_type": "code",
   "execution_count": 15,
   "id": "c924d093",
   "metadata": {},
   "outputs": [
    {
     "name": "stdout",
     "output_type": "stream",
     "text": [
      "Correlation between int_rate and default_ind = 0.155\n",
      "Correlation between loan_amnt and default_ind = -0.005\n",
      "Correlation between dti and default_ind = 0.005\n",
      "Correlation between annual_inc and default_ind = -0.037\n",
      "Correlation between revol_util and default_ind = 0.005\n",
      "Correlation between open_acc and default_ind = -0.022\n",
      "Correlation between delinq_2yrs and default_ind = -0.009\n"
     ]
    }
   ],
   "source": [
    "for col_name in numeric_cols:\n",
    "    corr_val = df.stat.corr(col_name, 'default_ind')\n",
    "    print(f\"Correlation between {col_name} and default_ind = {corr_val:.3f}\")\n"
   ]
  },
  {
   "cell_type": "code",
   "execution_count": null,
   "id": "9ba2893e",
   "metadata": {},
   "outputs": [
    {
     "name": "stdout",
     "output_type": "stream",
     "text": [
      "Preprocessing complete and data saved as CSV!\n"
     ]
    }
   ],
   "source": [
    "from pyspark.sql import SparkSession\n",
    "from pyspark.sql.functions import col\n",
    "from pyspark.ml.feature import StringIndexer, VectorAssembler\n",
    "from pyspark.ml import Pipeline\n",
    "\n",
    "#  Start Spark session\n",
    "spark = SparkSession.builder \\\n",
    "    .appName(\"CreditRiskPreprocessing\") \\\n",
    "    .config(\"spark.driver.memory\", \"4g\") \\\n",
    "    .getOrCreate()\n",
    "\n",
    "# Load data\n",
    "df = spark.read.csv(\"C:/Users/talha/Downloads/CSCI316_Project/data.csv\", header=True, inferSchema=True)\n",
    "\n",
    "# Drop rows with NULL default_ind\n",
    "df = df.filter(df['default_ind'].isNotNull())\n",
    "\n",
    "# List of features\n",
    "feature_cols = [\n",
    "    \"loan_amnt\", \"term\", \"int_rate\", \"grade\", \"sub_grade\", \"home_ownership\",\n",
    "    \"annual_inc\", \"verification_status\", \"purpose\", \"dti\", \"delinq_2yrs\",\n",
    "    \"inq_last_6mths\", \"open_acc\", \"pub_rec\", \"revol_util\", \"emp_length\"\n",
    "]\n",
    "feature_cols = [c for c in feature_cols if c in df.columns]\n",
    "\n",
    "# 5. Cast label to double\n",
    "df = df.withColumn(\"label\", col(\"default_ind\").cast(\"double\"))\n",
    "\n",
    "# 6. Identify categorical columns\n",
    "categorical_cols = [\"term\", \"grade\", \"sub_grade\", \"home_ownership\", \"verification_status\", \"purpose\", \"emp_length\"]\n",
    "categorical_cols = [c for c in categorical_cols if c in feature_cols]\n",
    "\n",
    "# 7. StringIndexer for categorical features using Pipeline\n",
    "indexers = [StringIndexer(inputCol=c, outputCol=c + \"_index\", handleInvalid='keep') for c in categorical_cols]\n",
    "pipeline = Pipeline(stages=indexers)\n",
    "df = pipeline.fit(df).transform(df)\n",
    "\n",
    "# 8. Prepare the list of final features (categorical replaced by *_index)\n",
    "feature_cols_final = []\n",
    "for c in feature_cols:\n",
    "    if c in categorical_cols:\n",
    "        feature_cols_final.append(c + \"_index\")\n",
    "    else:\n",
    "        feature_cols_final.append(c)\n",
    "\n",
    "# 9. Cast all features to double\n",
    "for c in feature_cols_final:\n",
    "    df = df.withColumn(c, col(c).cast(\"double\"))\n",
    "\n",
    "# 10. Fill nulls in feature columns\n",
    "df = df.fillna(0, subset=feature_cols_final)\n",
    "\n",
    "# 11. Assemble features \n",
    "assembler = VectorAssembler(inputCols=feature_cols_final, outputCol=\"features\")\n",
    "df = assembler.transform(df)\n",
    "\n",
    "# 12. Select columns to save\n",
    "save_cols = feature_cols_final + [\"label\"]  # Just features and label\n",
    "\n",
    "# 13. Save as CSV (folder will be created, can delete/overwrite if exists)\n",
    "output_path = \"C:/Users/talha/Downloads/CSCI316_Project/preprocessed_data_csv\"\n",
    "df.select(save_cols).write.mode(\"overwrite\").csv(output_path, header=True)\n",
    "\n",
    "print(\"Preprocessing complete and data saved as CSV!\")\n"
   ]
  }
 ],
 "metadata": {
  "kernelspec": {
   "display_name": "base",
   "language": "python",
   "name": "python3"
  },
  "language_info": {
   "codemirror_mode": {
    "name": "ipython",
    "version": 3
   },
   "file_extension": ".py",
   "mimetype": "text/x-python",
   "name": "python",
   "nbconvert_exporter": "python",
   "pygments_lexer": "ipython3",
   "version": "3.12.7"
  }
 },
 "nbformat": 4,
 "nbformat_minor": 5
}
