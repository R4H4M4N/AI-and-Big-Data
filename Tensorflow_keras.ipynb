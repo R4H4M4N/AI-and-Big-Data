{
 "cells": [
  {
   "cell_type": "markdown",
   "id": "a08251f7-b01b-4386-9d0a-460223229a8c",
   "metadata": {},
   "source": [
    "Import Libraries"
   ]
  },
  {
   "cell_type": "code",
   "execution_count": null,
   "id": "23aa7020-9905-47c1-95e6-d382dd689f0d",
   "metadata": {},
   "outputs": [],
   "source": [
    "import pandas as pd\n",
    "import numpy as np\n",
    "import glob\n",
    "from tensorflow import keras\n",
    "from sklearn.model_selection import train_test_split\n",
    "from sklearn.preprocessing import StandardScaler\n",
    "from sklearn.metrics import accuracy_score, precision_score, recall_score, roc_auc_score\n",
    "from sklearn.naive_bayes import GaussianNB\n",
    "from sklearn.tree import DecisionTreeClassifier\n",
    "from sklearn.ensemble import RandomForestClassifier\n",
    "from sklearn.naive_bayes import GaussianNB\n",
    "from sklearn.metrics import accuracy_score, precision_score, recall_score, roc_auc_score\n",
    "\n",
    "import tensorflow as tf\n",
    "from tensorflow.keras.models import Sequential\n",
    "from tensorflow.keras.layers import Dense, Dropout\n",
    "from tensorflow.keras.callbacks import EarlyStopping\n",
    "import matplotlib.pyplot as plt"
   ]
  },
  {
   "cell_type": "markdown",
   "id": "86ee29fd-f23e-43f0-afbb-7bf387f4af30",
   "metadata": {},
   "source": [
    "Load Dataset"
   ]
  },
  {
   "cell_type": "code",
   "execution_count": 18,
   "id": "2ebe7f54-4430-4b59-bf59-75d70632e2a2",
   "metadata": {},
   "outputs": [
    {
     "name": "stdout",
     "output_type": "stream",
     "text": [
      " Data loaded: (855746, 17)\n"
     ]
    }
   ],
   "source": [
    "csv_files = glob.glob(\"preprocessed_data_csv/part-*.csv\")\n",
    "df = pd.concat((pd.read_csv(f) for f in csv_files), ignore_index=True)\n",
    "\n",
    "print(\" Data loaded:\", df.shape)\n",
    "df.head()\n",
    "\n",
    "X = df.drop(\"label\", axis=1)\n",
    "y = df[\"label\"]\n"
   ]
  },
  {
   "cell_type": "markdown",
   "id": "8c2b38a3-b81c-496c-ad67-9501f706ed93",
   "metadata": {},
   "source": [
    "Split dataset"
   ]
  },
  {
   "cell_type": "code",
   "execution_count": 19,
   "id": "fba78c10-749e-42fa-bc6d-03558e24dc77",
   "metadata": {},
   "outputs": [],
   "source": [
    "X_train, X_test, y_train, y_test = train_test_split(X, y, stratify=y, test_size=0.2, random_state=42)"
   ]
  },
  {
   "cell_type": "markdown",
   "id": "9f0a748b-c3b0-402a-8976-30c3cb335f44",
   "metadata": {},
   "source": [
    "Decision Tree"
   ]
  },
  {
   "cell_type": "code",
   "execution_count": null,
   "id": "ccc39c30-0747-4572-83c4-6d3178f5bacb",
   "metadata": {},
   "outputs": [
    {
     "name": "stdout",
     "output_type": "stream",
     "text": [
      "\n",
      " Decision Tree Performance:\n",
      "Accuracy: 0.898305579900672\n",
      "Precision: 0.12843280849505676\n",
      "Recall: 0.1510713901152148\n",
      "ROC AUC: 0.5461250205983424\n"
     ]
    }
   ],
   "source": [
    "dt_model = DecisionTreeClassifier(random_state=42)\n",
    "dt_model.fit(X_train, y_train)\n",
    "dt_preds = dt_model.predict(X_test)\n",
    "\n",
    "print(\"\\n Decision Tree Performance:\")\n",
    "print(\"Accuracy:\", accuracy_score(y_test, dt_preds))\n",
    "print(\"Precision:\", precision_score(y_test, dt_preds, zero_division=0))\n",
    "print(\"Recall:\", recall_score(y_test, dt_preds, zero_division=0))\n",
    "\n",
    "try:\n",
    "    dt_probs = dt_model.predict_proba(X_test)[:, 1]\n",
    "    print(\"ROC AUC:\", roc_auc_score(y_test, dt_probs))\n",
    "except Exception as e:\n",
    "    print(\"ROC AUC could not be computed:\", e)\n"
   ]
  },
  {
   "cell_type": "markdown",
   "id": "42fd20f1",
   "metadata": {},
   "source": [
    "Random Forest Classifier"
   ]
  },
  {
   "cell_type": "code",
   "execution_count": 24,
   "id": "4e0f7fda",
   "metadata": {},
   "outputs": [
    {
     "name": "stdout",
     "output_type": "stream",
     "text": [
      "\n",
      " Random Forest Performance:\n",
      "Accuracy: 0.945708442886357\n",
      "Precision: 0.2222222222222222\n",
      "Recall: 0.0002153547970281038\n",
      "ROC AUC: 0.7761960492904838\n"
     ]
    }
   ],
   "source": [
    "rf_model = RandomForestClassifier(n_estimators=100, random_state=42)\n",
    "rf_model.fit(X_train, y_train)\n",
    "rf_preds = rf_model.predict(X_test)\n",
    "\n",
    "print(\"\\n Random Forest Performance:\")\n",
    "print(\"Accuracy:\", accuracy_score(y_test, rf_preds))\n",
    "print(\"Precision:\", precision_score(y_test, rf_preds, zero_division=0))\n",
    "print(\"Recall:\", recall_score(y_test, rf_preds, zero_division=0))\n",
    "try:\n",
    "    rf_probs = rf_model.predict_proba(X_test)[:, 1]\n",
    "    print(\"ROC AUC:\", roc_auc_score(y_test, rf_probs))\n",
    "except Exception as e:\n",
    "    print(\"ROC AUC could not be computed:\", e)\n"
   ]
  },
  {
   "cell_type": "markdown",
   "id": "4ae6a403-0264-4ae7-997f-32088fedcff4",
   "metadata": {},
   "source": [
    "Naive Bayes"
   ]
  },
  {
   "cell_type": "code",
   "execution_count": 25,
   "id": "fc70d7af-0c00-4439-806f-b756eee89a8f",
   "metadata": {},
   "outputs": [
    {
     "name": "stdout",
     "output_type": "stream",
     "text": [
      "\n",
      "Naive Bayes Performance:\n",
      "Accuracy: 0.9305930470347649\n",
      "Precision: 0.15930599369085174\n",
      "Recall: 0.06525250349951545\n",
      "ROC AUC: 0.6792893196702104\n"
     ]
    }
   ],
   "source": [
    "nb_model = GaussianNB()\n",
    "nb_model.fit(X_train, y_train)\n",
    "nb_preds = nb_model.predict(X_test)\n",
    "\n",
    "print(\"\\nNaive Bayes Performance:\")\n",
    "print(\"Accuracy:\", accuracy_score(y_test, nb_preds))\n",
    "print(\"Precision:\", precision_score(y_test, nb_preds, zero_division=0))\n",
    "print(\"Recall:\", recall_score(y_test, nb_preds, zero_division=0))\n",
    "try:\n",
    "    nb_probs = nb_model.predict_proba(X_test)[:, 1]\n",
    "    print(\"ROC AUC:\", roc_auc_score(y_test, nb_probs))\n",
    "except Exception as e:\n",
    "    print(\"ROC AUC could not be computed:\", e)"
   ]
  },
  {
   "cell_type": "markdown",
   "id": "73989f46-7502-43ea-b7a8-22620f10b073",
   "metadata": {},
   "source": [
    "Feedforward Neural Network"
   ]
  },
  {
   "cell_type": "code",
   "execution_count": 34,
   "id": "688ead2e-5224-4f07-a11e-b1ddf153fb7e",
   "metadata": {},
   "outputs": [
    {
     "name": "stderr",
     "output_type": "stream",
     "text": [
      "/opt/anaconda3/lib/python3.12/site-packages/keras/src/layers/core/dense.py:87: UserWarning: Do not pass an `input_shape`/`input_dim` argument to a layer. When using Sequential models, prefer using an `Input(shape)` object as the first layer in the model instead.\n",
      "  super().__init__(activity_regularizer=activity_regularizer, **kwargs)\n"
     ]
    },
    {
     "name": "stdout",
     "output_type": "stream",
     "text": [
      "\u001b[1m5349/5349\u001b[0m \u001b[32m━━━━━━━━━━━━━━━━━━━━\u001b[0m\u001b[37m\u001b[0m \u001b[1m1s\u001b[0m 204us/step\n",
      "\n",
      " Neural Network:\n",
      "Accuracy: 0.9457376570260005\n",
      "Precision: 0.0\n",
      "Recall: 0.0\n",
      "ROC AUC: 0.7836947759536739\n"
     ]
    },
    {
     "name": "stderr",
     "output_type": "stream",
     "text": [
      "/opt/anaconda3/lib/python3.12/site-packages/sklearn/metrics/_classification.py:1531: UndefinedMetricWarning: Precision is ill-defined and being set to 0.0 due to no predicted samples. Use `zero_division` parameter to control this behavior.\n",
      "  _warn_prf(average, modifier, f\"{metric.capitalize()} is\", len(result))\n"
     ]
    }
   ],
   "source": [
    "scaler = StandardScaler()\n",
    "X_train_scaled = scaler.fit_transform(X_train)\n",
    "X_test_scaled = scaler.transform(X_test)\n",
    "\n",
    "model = keras.models.Sequential([\n",
    "    keras.layers.Dense(64, activation=\"relu\", input_shape=(X_train.shape[1],)),\n",
    "    keras.layers.Dropout(0.2),\n",
    "    keras.layers.Dense(32, activation=\"relu\"),\n",
    "    keras.layers.Dense(1, activation=\"sigmoid\")\n",
    "])\n",
    "\n",
    "model.compile(optimizer=\"adam\", loss=\"binary_crossentropy\", metrics=[\"accuracy\"])\n",
    "es = keras.callbacks.EarlyStopping(monitor=\"val_loss\", patience=5, restore_best_weights=True)\n",
    "\n",
    "history = model.fit(X_train_scaled, y_train, validation_split=0.2, epochs=30, batch_size=32, callbacks=[es], verbose=0)\n",
    "\n",
    "nn_probs = model.predict(X_test_scaled)\n",
    "nn_preds = (nn_probs > 0.5).astype(\"int32\")\n",
    "\n",
    "print(\"\\n Neural Network:\")\n",
    "print(\"Accuracy:\", accuracy_score(y_test, nn_preds))\n",
    "print(\"Precision:\", precision_score(y_test, nn_preds))\n",
    "print(\"Recall:\", recall_score(y_test, nn_preds))\n",
    "print(\"ROC AUC:\", roc_auc_score(y_test, nn_probs))\n"
   ]
  },
  {
   "cell_type": "markdown",
   "id": "c2114159",
   "metadata": {
    "vscode": {
     "languageId": "raw"
    }
   },
   "source": [
    "Plot Training History"
   ]
  },
  {
   "cell_type": "code",
   "execution_count": 32,
   "id": "ee75e301",
   "metadata": {},
   "outputs": [
    {
     "data": {
      "image/png": "[encoded data removed]",
      "text/plain": [
       "<Figure size 640x480 with 1 Axes>"
      ]
     },
     "metadata": {},
     "output_type": "display_data"
    }
   ],
   "source": [
    "plt.plot(history.history['loss'], label='Train Loss')\n",
    "plt.plot(history.history['val_loss'], label='Val Loss')\n",
    "plt.title(\"MLP Training Loss\")\n",
    "plt.xlabel(\"Epoch\")\n",
    "plt.ylabel(\"Loss\")\n",
    "plt.legend()\n",
    "plt.tight_layout()\n",
    "plt.show()\n"
   ]
  }
 ],
 "metadata": {
  "kernelspec": {
   "display_name": "base",
   "language": "python",
   "name": "python3"
  },
  "language_info": {
   "codemirror_mode": {
    "name": "ipython",
    "version": 3
   },
   "file_extension": ".py",
   "mimetype": "text/x-python",
   "name": "python",
   "nbconvert_exporter": "python",
   "pygments_lexer": "ipython3",
   "version": "3.12.7"
  }
 },
 "nbformat": 4,
 "nbformat_minor": 5
}
